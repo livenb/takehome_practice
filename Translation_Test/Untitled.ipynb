{
 "cells": [
  {
   "cell_type": "code",
   "execution_count": 112,
   "metadata": {
    "collapsed": true
   },
   "outputs": [],
   "source": [
    "import pandas as pd\n",
    "import os\n",
    "import matplotlib.pyplot as plt\n",
    "plt.style.use('ggplot')\n",
    "%matplotlib inline"
   ]
  },
  {
   "cell_type": "code",
   "execution_count": 2,
   "metadata": {
    "collapsed": true
   },
   "outputs": [],
   "source": [
    "path = os.getcwd()"
   ]
  },
  {
   "cell_type": "code",
   "execution_count": 3,
   "metadata": {
    "collapsed": false
   },
   "outputs": [
    {
     "data": {
      "text/plain": [
       "['user_table.csv',\n",
       " '_DS_Store',\n",
       " '.ipynb_checkpoints',\n",
       " 'test_table.csv',\n",
       " 'Untitled.ipynb',\n",
       " 'Spanish Tranlation Test.pdf']"
      ]
     },
     "execution_count": 3,
     "metadata": {},
     "output_type": "execute_result"
    }
   ],
   "source": [
    "os.listdir(path)"
   ]
  },
  {
   "cell_type": "code",
   "execution_count": 4,
   "metadata": {
    "collapsed": false
   },
   "outputs": [
    {
     "name": "stdout",
     "output_type": "stream",
     "text": [
      "<class 'pandas.core.frame.DataFrame'>\n",
      "RangeIndex: 452867 entries, 0 to 452866\n",
      "Data columns (total 4 columns):\n",
      "user_id    452867 non-null int64\n",
      "sex        452867 non-null object\n",
      "age        452867 non-null int64\n",
      "country    452867 non-null object\n",
      "dtypes: int64(2), object(2)\n",
      "memory usage: 13.8+ MB\n"
     ]
    }
   ],
   "source": [
    "user = pd.read_csv('user_table.csv')\n",
    "user.info()"
   ]
  },
  {
   "cell_type": "code",
   "execution_count": 5,
   "metadata": {
    "collapsed": false
   },
   "outputs": [
    {
     "name": "stdout",
     "output_type": "stream",
     "text": [
      "<class 'pandas.core.frame.DataFrame'>\n",
      "RangeIndex: 453321 entries, 0 to 453320\n",
      "Data columns (total 9 columns):\n",
      "user_id             453321 non-null int64\n",
      "date                453321 non-null object\n",
      "source              453321 non-null object\n",
      "device              453321 non-null object\n",
      "browser_language    453321 non-null object\n",
      "ads_channel         181877 non-null object\n",
      "browser             453321 non-null object\n",
      "conversion          453321 non-null int64\n",
      "test                453321 non-null int64\n",
      "dtypes: int64(3), object(6)\n",
      "memory usage: 31.1+ MB\n"
     ]
    }
   ],
   "source": [
    "test = pd.read_csv('test_table.csv')\n",
    "test.info()"
   ]
  },
  {
   "cell_type": "code",
   "execution_count": 6,
   "metadata": {
    "collapsed": false
   },
   "outputs": [
    {
     "data": {
      "text/html": [
       "<div>\n",
       "<table border=\"1\" class=\"dataframe\">\n",
       "  <thead>\n",
       "    <tr style=\"text-align: right;\">\n",
       "      <th></th>\n",
       "      <th>user_id</th>\n",
       "      <th>sex</th>\n",
       "      <th>age</th>\n",
       "      <th>country</th>\n",
       "    </tr>\n",
       "  </thead>\n",
       "  <tbody>\n",
       "    <tr>\n",
       "      <th>0</th>\n",
       "      <td>765821</td>\n",
       "      <td>M</td>\n",
       "      <td>20</td>\n",
       "      <td>Mexico</td>\n",
       "    </tr>\n",
       "    <tr>\n",
       "      <th>1</th>\n",
       "      <td>343561</td>\n",
       "      <td>F</td>\n",
       "      <td>27</td>\n",
       "      <td>Nicaragua</td>\n",
       "    </tr>\n",
       "    <tr>\n",
       "      <th>2</th>\n",
       "      <td>118744</td>\n",
       "      <td>M</td>\n",
       "      <td>23</td>\n",
       "      <td>Colombia</td>\n",
       "    </tr>\n",
       "    <tr>\n",
       "      <th>3</th>\n",
       "      <td>987753</td>\n",
       "      <td>F</td>\n",
       "      <td>27</td>\n",
       "      <td>Venezuela</td>\n",
       "    </tr>\n",
       "    <tr>\n",
       "      <th>4</th>\n",
       "      <td>554597</td>\n",
       "      <td>F</td>\n",
       "      <td>20</td>\n",
       "      <td>Spain</td>\n",
       "    </tr>\n",
       "  </tbody>\n",
       "</table>\n",
       "</div>"
      ],
      "text/plain": [
       "   user_id sex  age    country\n",
       "0   765821   M   20     Mexico\n",
       "1   343561   F   27  Nicaragua\n",
       "2   118744   M   23   Colombia\n",
       "3   987753   F   27  Venezuela\n",
       "4   554597   F   20      Spain"
      ]
     },
     "execution_count": 6,
     "metadata": {},
     "output_type": "execute_result"
    }
   ],
   "source": [
    "user.head()"
   ]
  },
  {
   "cell_type": "code",
   "execution_count": 7,
   "metadata": {
    "collapsed": false
   },
   "outputs": [
    {
     "data": {
      "text/html": [
       "<div>\n",
       "<table border=\"1\" class=\"dataframe\">\n",
       "  <thead>\n",
       "    <tr style=\"text-align: right;\">\n",
       "      <th></th>\n",
       "      <th>user_id</th>\n",
       "      <th>date</th>\n",
       "      <th>source</th>\n",
       "      <th>device</th>\n",
       "      <th>browser_language</th>\n",
       "      <th>ads_channel</th>\n",
       "      <th>browser</th>\n",
       "      <th>conversion</th>\n",
       "      <th>test</th>\n",
       "    </tr>\n",
       "  </thead>\n",
       "  <tbody>\n",
       "    <tr>\n",
       "      <th>0</th>\n",
       "      <td>315281</td>\n",
       "      <td>2015-12-03</td>\n",
       "      <td>Direct</td>\n",
       "      <td>Web</td>\n",
       "      <td>ES</td>\n",
       "      <td>NaN</td>\n",
       "      <td>IE</td>\n",
       "      <td>1</td>\n",
       "      <td>0</td>\n",
       "    </tr>\n",
       "    <tr>\n",
       "      <th>1</th>\n",
       "      <td>497851</td>\n",
       "      <td>2015-12-04</td>\n",
       "      <td>Ads</td>\n",
       "      <td>Web</td>\n",
       "      <td>ES</td>\n",
       "      <td>Google</td>\n",
       "      <td>IE</td>\n",
       "      <td>0</td>\n",
       "      <td>1</td>\n",
       "    </tr>\n",
       "    <tr>\n",
       "      <th>2</th>\n",
       "      <td>848402</td>\n",
       "      <td>2015-12-04</td>\n",
       "      <td>Ads</td>\n",
       "      <td>Web</td>\n",
       "      <td>ES</td>\n",
       "      <td>Facebook</td>\n",
       "      <td>Chrome</td>\n",
       "      <td>0</td>\n",
       "      <td>0</td>\n",
       "    </tr>\n",
       "    <tr>\n",
       "      <th>3</th>\n",
       "      <td>290051</td>\n",
       "      <td>2015-12-03</td>\n",
       "      <td>Ads</td>\n",
       "      <td>Mobile</td>\n",
       "      <td>Other</td>\n",
       "      <td>Facebook</td>\n",
       "      <td>Android_App</td>\n",
       "      <td>0</td>\n",
       "      <td>1</td>\n",
       "    </tr>\n",
       "    <tr>\n",
       "      <th>4</th>\n",
       "      <td>548435</td>\n",
       "      <td>2015-11-30</td>\n",
       "      <td>Ads</td>\n",
       "      <td>Web</td>\n",
       "      <td>ES</td>\n",
       "      <td>Google</td>\n",
       "      <td>FireFox</td>\n",
       "      <td>0</td>\n",
       "      <td>1</td>\n",
       "    </tr>\n",
       "  </tbody>\n",
       "</table>\n",
       "</div>"
      ],
      "text/plain": [
       "   user_id        date  source  device browser_language ads_channel  \\\n",
       "0   315281  2015-12-03  Direct     Web               ES         NaN   \n",
       "1   497851  2015-12-04     Ads     Web               ES      Google   \n",
       "2   848402  2015-12-04     Ads     Web               ES    Facebook   \n",
       "3   290051  2015-12-03     Ads  Mobile            Other    Facebook   \n",
       "4   548435  2015-11-30     Ads     Web               ES      Google   \n",
       "\n",
       "       browser  conversion  test  \n",
       "0           IE           1     0  \n",
       "1           IE           0     1  \n",
       "2       Chrome           0     0  \n",
       "3  Android_App           0     1  \n",
       "4      FireFox           0     1  "
      ]
     },
     "execution_count": 7,
     "metadata": {},
     "output_type": "execute_result"
    }
   ],
   "source": [
    "test.head()"
   ]
  },
  {
   "cell_type": "code",
   "execution_count": 8,
   "metadata": {
    "collapsed": false
   },
   "outputs": [
    {
     "data": {
      "text/plain": [
       "Ads       181877\n",
       "SEO       180610\n",
       "Direct     90834\n",
       "Name: source, dtype: int64"
      ]
     },
     "execution_count": 8,
     "metadata": {},
     "output_type": "execute_result"
    }
   ],
   "source": [
    "test['source'].value_counts()"
   ]
  },
  {
   "cell_type": "code",
   "execution_count": 9,
   "metadata": {
    "collapsed": false
   },
   "outputs": [
    {
     "data": {
      "text/plain": [
       "0    430846\n",
       "1     22475\n",
       "Name: conversion, dtype: int64"
      ]
     },
     "execution_count": 9,
     "metadata": {},
     "output_type": "execute_result"
    }
   ],
   "source": [
    "test['conversion'].value_counts()"
   ]
  },
  {
   "cell_type": "code",
   "execution_count": 10,
   "metadata": {
    "collapsed": false
   },
   "outputs": [
    {
     "data": {
      "text/plain": [
       "0.04957855471067963"
      ]
     },
     "execution_count": 10,
     "metadata": {},
     "output_type": "execute_result"
    }
   ],
   "source": [
    "22475.0/(22475+430846)"
   ]
  },
  {
   "cell_type": "code",
   "execution_count": 11,
   "metadata": {
    "collapsed": false
   },
   "outputs": [
    {
     "data": {
      "text/plain": [
       "0    237338\n",
       "1    215983\n",
       "Name: test, dtype: int64"
      ]
     },
     "execution_count": 11,
     "metadata": {},
     "output_type": "execute_result"
    }
   ],
   "source": [
    "test['test'].value_counts()"
   ]
  },
  {
   "cell_type": "code",
   "execution_count": 12,
   "metadata": {
    "collapsed": true
   },
   "outputs": [],
   "source": [
    "gp = test.groupby('test')"
   ]
  },
  {
   "cell_type": "code",
   "execution_count": 13,
   "metadata": {
    "collapsed": false
   },
   "outputs": [
    {
     "data": {
      "text/plain": [
       "test  conversion\n",
       "0     0             224242\n",
       "      1              13096\n",
       "1     0             206604\n",
       "      1               9379\n",
       "Name: conversion, dtype: int64"
      ]
     },
     "execution_count": 13,
     "metadata": {},
     "output_type": "execute_result"
    }
   ],
   "source": [
    "gp['conversion'].value_counts()"
   ]
  },
  {
   "cell_type": "code",
   "execution_count": 14,
   "metadata": {
    "collapsed": false
   },
   "outputs": [
    {
     "data": {
      "text/plain": [
       "0.055178690306651276"
      ]
     },
     "execution_count": 14,
     "metadata": {},
     "output_type": "execute_result"
    }
   ],
   "source": [
    "13096.0/(224242 + 13096)"
   ]
  },
  {
   "cell_type": "code",
   "execution_count": 15,
   "metadata": {
    "collapsed": false
   },
   "outputs": [
    {
     "data": {
      "text/plain": [
       "0.043424713982118966"
      ]
     },
     "execution_count": 15,
     "metadata": {},
     "output_type": "execute_result"
    }
   ],
   "source": [
    "9379.0/(206604 + 9379)"
   ]
  },
  {
   "cell_type": "code",
   "execution_count": 16,
   "metadata": {
    "collapsed": false
   },
   "outputs": [
    {
     "data": {
      "text/plain": [
       "test  browser_language\n",
       "0     ES                  197773\n",
       "      EN                   33003\n",
       "      Other                 6562\n",
       "1     ES                  179774\n",
       "      EN                   30134\n",
       "      Other                 6075\n",
       "Name: browser_language, dtype: int64"
      ]
     },
     "execution_count": 16,
     "metadata": {},
     "output_type": "execute_result"
    }
   ],
   "source": [
    "gp['browser_language'].value_counts()"
   ]
  },
  {
   "cell_type": "code",
   "execution_count": 139,
   "metadata": {
    "collapsed": false
   },
   "outputs": [],
   "source": [
    "combine = test.merge(user, how='inner', on='user_id')"
   ]
  },
  {
   "cell_type": "code",
   "execution_count": 140,
   "metadata": {
    "collapsed": false
   },
   "outputs": [
    {
     "name": "stdout",
     "output_type": "stream",
     "text": [
      "<class 'pandas.core.frame.DataFrame'>\n",
      "Int64Index: 452867 entries, 0 to 452866\n",
      "Data columns (total 12 columns):\n",
      "user_id             452867 non-null int64\n",
      "date                452867 non-null object\n",
      "source              452867 non-null object\n",
      "device              452867 non-null object\n",
      "browser_language    452867 non-null object\n",
      "ads_channel         181693 non-null object\n",
      "browser             452867 non-null object\n",
      "conversion          452867 non-null int64\n",
      "test                452867 non-null int64\n",
      "sex                 452867 non-null object\n",
      "age                 452867 non-null int64\n",
      "country             452867 non-null object\n",
      "dtypes: int64(4), object(8)\n",
      "memory usage: 44.9+ MB\n"
     ]
    }
   ],
   "source": [
    "combine.info()"
   ]
  },
  {
   "cell_type": "code",
   "execution_count": 19,
   "metadata": {
    "collapsed": false
   },
   "outputs": [],
   "source": [
    "gpcom = combine.groupby('test')"
   ]
  },
  {
   "cell_type": "code",
   "execution_count": 20,
   "metadata": {
    "collapsed": false
   },
   "outputs": [
    {
     "data": {
      "text/plain": [
       "test  country    \n",
       "0     Mexico         64209\n",
       "      Spain          51782\n",
       "      Colombia       27088\n",
       "      Peru           16869\n",
       "      Venezuela      16149\n",
       "      Chile           9853\n",
       "      Argentina       9356\n",
       "      Ecuador         8036\n",
       "      Guatemala       7622\n",
       "      Bolivia         5550\n",
       "      Honduras        4361\n",
       "      El Salvador     4108\n",
       "      Paraguay        3650\n",
       "      Nicaragua       3419\n",
       "      Costa Rica      2660\n",
       "      Panama          1966\n",
       "      Uruguay          415\n",
       "1     Mexico         64275\n",
       "      Argentina      37377\n",
       "      Colombia       26972\n",
       "      Peru           16797\n",
       "      Venezuela      15905\n",
       "      Chile           9884\n",
       "      Ecuador         7859\n",
       "      Guatemala       7503\n",
       "      Bolivia         5574\n",
       "      Honduras        4207\n",
       "      El Salvador     4067\n",
       "      Uruguay         3719\n",
       "      Paraguay        3697\n",
       "      Nicaragua       3304\n",
       "      Costa Rica      2649\n",
       "      Panama          1985\n",
       "Name: country, dtype: int64"
      ]
     },
     "execution_count": 20,
     "metadata": {},
     "output_type": "execute_result"
    }
   ],
   "source": [
    "gpcom['country'].value_counts()"
   ]
  },
  {
   "cell_type": "code",
   "execution_count": 21,
   "metadata": {
    "collapsed": false
   },
   "outputs": [
    {
     "data": {
      "text/plain": [
       "country      test\n",
       "Argentina    1       37377\n",
       "             0        9356\n",
       "Bolivia      1        5574\n",
       "             0        5550\n",
       "Chile        1        9884\n",
       "             0        9853\n",
       "Colombia     0       27088\n",
       "             1       26972\n",
       "Costa Rica   0        2660\n",
       "             1        2649\n",
       "Ecuador      0        8036\n",
       "             1        7859\n",
       "El Salvador  0        4108\n",
       "             1        4067\n",
       "Guatemala    0        7622\n",
       "             1        7503\n",
       "Honduras     0        4361\n",
       "             1        4207\n",
       "Mexico       1       64275\n",
       "             0       64209\n",
       "Nicaragua    0        3419\n",
       "             1        3304\n",
       "Panama       1        1985\n",
       "             0        1966\n",
       "Paraguay     1        3697\n",
       "             0        3650\n",
       "Peru         0       16869\n",
       "             1       16797\n",
       "Spain        0       51782\n",
       "Uruguay      1        3719\n",
       "             0         415\n",
       "Venezuela    0       16149\n",
       "             1       15905\n",
       "Name: test, dtype: int64"
      ]
     },
     "execution_count": 21,
     "metadata": {},
     "output_type": "execute_result"
    }
   ],
   "source": [
    "combine.groupby([ 'country'])['test'].value_counts()"
   ]
  },
  {
   "cell_type": "code",
   "execution_count": 22,
   "metadata": {
    "collapsed": false
   },
   "outputs": [
    {
     "data": {
      "text/plain": [
       "test  conversion\n",
       "0     0             176588\n",
       "      1               8968\n",
       "1     0             206604\n",
       "      1               9379\n",
       "Name: conversion, dtype: int64"
      ]
     },
     "execution_count": 22,
     "metadata": {},
     "output_type": "execute_result"
    }
   ],
   "source": [
    "combine[combine['country'] != 'Spain'].groupby('test')['conversion'].value_counts()"
   ]
  },
  {
   "cell_type": "code",
   "execution_count": 23,
   "metadata": {
    "collapsed": false
   },
   "outputs": [
    {
     "data": {
      "text/plain": [
       "0.04833042316066309"
      ]
     },
     "execution_count": 23,
     "metadata": {},
     "output_type": "execute_result"
    }
   ],
   "source": [
    "8968.0/(8968+176588)"
   ]
  },
  {
   "cell_type": "code",
   "execution_count": 24,
   "metadata": {
    "collapsed": false
   },
   "outputs": [
    {
     "data": {
      "text/plain": [
       "0.043424713982118966"
      ]
     },
     "execution_count": 24,
     "metadata": {},
     "output_type": "execute_result"
    }
   ],
   "source": [
    "9379.0/(9379+206604)"
   ]
  },
  {
   "cell_type": "code",
   "execution_count": 25,
   "metadata": {
    "collapsed": false
   },
   "outputs": [
    {
     "data": {
      "text/plain": [
       "sex  test\n",
       "F    0        98473\n",
       "     1        89909\n",
       "M    0       138620\n",
       "     1       125865\n",
       "Name: test, dtype: int64"
      ]
     },
     "execution_count": 25,
     "metadata": {},
     "output_type": "execute_result"
    }
   ],
   "source": [
    "combine.groupby([ 'sex'])['test'].value_counts()"
   ]
  },
  {
   "cell_type": "code",
   "execution_count": 26,
   "metadata": {
    "collapsed": false
   },
   "outputs": [
    {
     "data": {
      "text/plain": [
       "browser      test\n",
       "Android_App  0       80944\n",
       "             1       74191\n",
       "Chrome       0       53127\n",
       "             1       48802\n",
       "FireFox      0       21388\n",
       "             1       19378\n",
       "IE           0       32471\n",
       "             1       29244\n",
       "Iphone_App   0       24456\n",
       "             1       22165\n",
       "Opera        0        3203\n",
       "             1        2887\n",
       "Safari       0       21749\n",
       "             1       19316\n",
       "Name: test, dtype: int64"
      ]
     },
     "execution_count": 26,
     "metadata": {},
     "output_type": "execute_result"
    }
   ],
   "source": [
    "combine.groupby([ 'browser'])['test'].value_counts()"
   ]
  },
  {
   "cell_type": "code",
   "execution_count": 27,
   "metadata": {
    "collapsed": false
   },
   "outputs": [
    {
     "data": {
      "text/plain": [
       "test  source\n",
       "0     Ads       95348\n",
       "      SEO       94250\n",
       "      Direct    47740\n",
       "1     Ads       86529\n",
       "      SEO       86360\n",
       "      Direct    43094\n",
       "Name: source, dtype: int64"
      ]
     },
     "execution_count": 27,
     "metadata": {},
     "output_type": "execute_result"
    }
   ],
   "source": [
    "gpcom['source'].value_counts()"
   ]
  },
  {
   "cell_type": "code",
   "execution_count": 28,
   "metadata": {
    "collapsed": false
   },
   "outputs": [
    {
     "data": {
      "text/plain": [
       "test  ads_channel\n",
       "0     Facebook       35789\n",
       "      Google         35771\n",
       "      Yahoo          14399\n",
       "      Bing            7174\n",
       "      Other           2215\n",
       "1     Facebook       32636\n",
       "      Google         32409\n",
       "      Yahoo          13036\n",
       "      Bing            6515\n",
       "      Other           1933\n",
       "Name: ads_channel, dtype: int64"
      ]
     },
     "execution_count": 28,
     "metadata": {},
     "output_type": "execute_result"
    }
   ],
   "source": [
    "gpcom['ads_channel'].value_counts()"
   ]
  },
  {
   "cell_type": "code",
   "execution_count": 29,
   "metadata": {
    "collapsed": false
   },
   "outputs": [
    {
     "data": {
      "text/plain": [
       "test  browser_language\n",
       "0     ES                  197773\n",
       "      EN                   33003\n",
       "      Other                 6562\n",
       "1     ES                  179774\n",
       "      EN                   30134\n",
       "      Other                 6075\n",
       "Name: browser_language, dtype: int64"
      ]
     },
     "execution_count": 29,
     "metadata": {},
     "output_type": "execute_result"
    }
   ],
   "source": [
    "gpcom['browser_language'].value_counts()"
   ]
  },
  {
   "cell_type": "code",
   "execution_count": 30,
   "metadata": {
    "collapsed": false
   },
   "outputs": [
    {
     "data": {
      "text/plain": [
       "test  device\n",
       "0     Web       131938\n",
       "      Mobile    105400\n",
       "1     Web       119627\n",
       "      Mobile     96356\n",
       "Name: device, dtype: int64"
      ]
     },
     "execution_count": 30,
     "metadata": {},
     "output_type": "execute_result"
    }
   ],
   "source": [
    "gpcom['device'].value_counts()"
   ]
  },
  {
   "cell_type": "code",
   "execution_count": 31,
   "metadata": {
    "collapsed": true
   },
   "outputs": [],
   "source": [
    "gpcover = combine.groupby('conversion')"
   ]
  },
  {
   "cell_type": "code",
   "execution_count": 32,
   "metadata": {
    "collapsed": false
   },
   "outputs": [
    {
     "data": {
      "text/plain": [
       "conversion  browser_language\n",
       "0           ES                  358754\n",
       "            EN                   60083\n",
       "            Other                12009\n",
       "1           ES                   18793\n",
       "            EN                    3054\n",
       "            Other                  628\n",
       "Name: browser_language, dtype: int64"
      ]
     },
     "execution_count": 32,
     "metadata": {},
     "output_type": "execute_result"
    }
   ],
   "source": [
    "gpcover['browser_language'].value_counts()"
   ]
  },
  {
   "cell_type": "code",
   "execution_count": 37,
   "metadata": {
    "collapsed": false
   },
   "outputs": [
    {
     "data": {
      "text/plain": [
       "0.050829685601584476"
      ]
     },
     "execution_count": 37,
     "metadata": {},
     "output_type": "execute_result"
    }
   ],
   "source": [
    "3054.0/60083"
   ]
  },
  {
   "cell_type": "code",
   "execution_count": 33,
   "metadata": {
    "collapsed": false
   },
   "outputs": [
    {
     "data": {
      "text/plain": [
       "conversion  country    \n",
       "0           Mexico         122016\n",
       "            Colombia        51285\n",
       "            Spain           47654\n",
       "            Argentina       46079\n",
       "            Peru            31974\n",
       "            Venezuela       30462\n",
       "            Chile           18756\n",
       "            Ecuador         15115\n",
       "            Guatemala       14374\n",
       "            Bolivia         10583\n",
       "            Honduras         8146\n",
       "            El Salvador      7760\n",
       "            Paraguay         6988\n",
       "            Nicaragua        6364\n",
       "            Costa Rica       5025\n",
       "            Uruguay          4081\n",
       "            Panama           3761\n",
       "1           Mexico           6468\n",
       "            Spain            4128\n",
       "            Colombia         2775\n",
       "            Peru             1692\n",
       "            Venezuela        1592\n",
       "            Chile             981\n",
       "            Ecuador           780\n",
       "            Guatemala         751\n",
       "            Argentina         654\n",
       "            Bolivia           541\n",
       "            Honduras          422\n",
       "            El Salvador       415\n",
       "            Nicaragua         359\n",
       "            Paraguay          359\n",
       "            Costa Rica        284\n",
       "            Panama            190\n",
       "            Uruguay            53\n",
       "Name: country, dtype: int64"
      ]
     },
     "execution_count": 33,
     "metadata": {},
     "output_type": "execute_result"
    }
   ],
   "source": [
    "gpcover['country'].value_counts()"
   ]
  },
  {
   "cell_type": "code",
   "execution_count": 34,
   "metadata": {
    "collapsed": false
   },
   "outputs": [
    {
     "data": {
      "text/html": [
       "<div>\n",
       "<table border=\"1\" class=\"dataframe\">\n",
       "  <thead>\n",
       "    <tr style=\"text-align: right;\">\n",
       "      <th></th>\n",
       "      <th>user_id</th>\n",
       "      <th>date</th>\n",
       "      <th>source</th>\n",
       "      <th>device</th>\n",
       "      <th>browser_language</th>\n",
       "      <th>ads_channel</th>\n",
       "      <th>browser</th>\n",
       "      <th>conversion</th>\n",
       "      <th>test</th>\n",
       "      <th>sex</th>\n",
       "      <th>age</th>\n",
       "      <th>country</th>\n",
       "    </tr>\n",
       "  </thead>\n",
       "  <tbody>\n",
       "    <tr>\n",
       "      <th>0</th>\n",
       "      <td>315281</td>\n",
       "      <td>2015-12-03</td>\n",
       "      <td>Direct</td>\n",
       "      <td>Web</td>\n",
       "      <td>ES</td>\n",
       "      <td>NaN</td>\n",
       "      <td>IE</td>\n",
       "      <td>1</td>\n",
       "      <td>0</td>\n",
       "      <td>M</td>\n",
       "      <td>32.0</td>\n",
       "      <td>Spain</td>\n",
       "    </tr>\n",
       "    <tr>\n",
       "      <th>1</th>\n",
       "      <td>497851</td>\n",
       "      <td>2015-12-04</td>\n",
       "      <td>Ads</td>\n",
       "      <td>Web</td>\n",
       "      <td>ES</td>\n",
       "      <td>Google</td>\n",
       "      <td>IE</td>\n",
       "      <td>0</td>\n",
       "      <td>1</td>\n",
       "      <td>M</td>\n",
       "      <td>21.0</td>\n",
       "      <td>Mexico</td>\n",
       "    </tr>\n",
       "    <tr>\n",
       "      <th>2</th>\n",
       "      <td>848402</td>\n",
       "      <td>2015-12-04</td>\n",
       "      <td>Ads</td>\n",
       "      <td>Web</td>\n",
       "      <td>ES</td>\n",
       "      <td>Facebook</td>\n",
       "      <td>Chrome</td>\n",
       "      <td>0</td>\n",
       "      <td>0</td>\n",
       "      <td>M</td>\n",
       "      <td>34.0</td>\n",
       "      <td>Spain</td>\n",
       "    </tr>\n",
       "    <tr>\n",
       "      <th>3</th>\n",
       "      <td>290051</td>\n",
       "      <td>2015-12-03</td>\n",
       "      <td>Ads</td>\n",
       "      <td>Mobile</td>\n",
       "      <td>Other</td>\n",
       "      <td>Facebook</td>\n",
       "      <td>Android_App</td>\n",
       "      <td>0</td>\n",
       "      <td>1</td>\n",
       "      <td>F</td>\n",
       "      <td>22.0</td>\n",
       "      <td>Mexico</td>\n",
       "    </tr>\n",
       "    <tr>\n",
       "      <th>4</th>\n",
       "      <td>548435</td>\n",
       "      <td>2015-11-30</td>\n",
       "      <td>Ads</td>\n",
       "      <td>Web</td>\n",
       "      <td>ES</td>\n",
       "      <td>Google</td>\n",
       "      <td>FireFox</td>\n",
       "      <td>0</td>\n",
       "      <td>1</td>\n",
       "      <td>M</td>\n",
       "      <td>19.0</td>\n",
       "      <td>Mexico</td>\n",
       "    </tr>\n",
       "  </tbody>\n",
       "</table>\n",
       "</div>"
      ],
      "text/plain": [
       "   user_id        date  source  device browser_language ads_channel  \\\n",
       "0   315281  2015-12-03  Direct     Web               ES         NaN   \n",
       "1   497851  2015-12-04     Ads     Web               ES      Google   \n",
       "2   848402  2015-12-04     Ads     Web               ES    Facebook   \n",
       "3   290051  2015-12-03     Ads  Mobile            Other    Facebook   \n",
       "4   548435  2015-11-30     Ads     Web               ES      Google   \n",
       "\n",
       "       browser  conversion  test sex   age country  \n",
       "0           IE           1     0   M  32.0   Spain  \n",
       "1           IE           0     1   M  21.0  Mexico  \n",
       "2       Chrome           0     0   M  34.0   Spain  \n",
       "3  Android_App           0     1   F  22.0  Mexico  \n",
       "4      FireFox           0     1   M  19.0  Mexico  "
      ]
     },
     "execution_count": 34,
     "metadata": {},
     "output_type": "execute_result"
    }
   ],
   "source": [
    "combine.head()"
   ]
  },
  {
   "cell_type": "code",
   "execution_count": 48,
   "metadata": {
    "collapsed": false
   },
   "outputs": [],
   "source": [
    "combine['date'] = pd.to_datetime(combine['date'])"
   ]
  },
  {
   "cell_type": "code",
   "execution_count": 54,
   "metadata": {
    "collapsed": false
   },
   "outputs": [
    {
     "data": {
      "text/plain": [
       "test  date      \n",
       "0     2015-12-04    73907\n",
       "      2015-12-03    52073\n",
       "      2015-11-30    37142\n",
       "      2015-12-01    37116\n",
       "      2015-12-02    37100\n",
       "1     2015-12-04    67256\n",
       "      2015-12-03    47420\n",
       "      2015-11-30    33883\n",
       "      2015-12-01    33875\n",
       "      2015-12-02    33549\n",
       "Name: date, dtype: int64"
      ]
     },
     "execution_count": 54,
     "metadata": {},
     "output_type": "execute_result"
    }
   ],
   "source": [
    "combine.groupby('test')['date'].value_counts()"
   ]
  },
  {
   "cell_type": "code",
   "execution_count": 40,
   "metadata": {
    "collapsed": false
   },
   "outputs": [
    {
     "data": {
      "text/plain": [
       "test\n",
       "0    2015-11-30\n",
       "1    2015-11-30\n",
       "Name: date, dtype: object"
      ]
     },
     "execution_count": 40,
     "metadata": {},
     "output_type": "execute_result"
    }
   ],
   "source": [
    "combine.groupby('test')['date'].min()"
   ]
  },
  {
   "cell_type": "code",
   "execution_count": 262,
   "metadata": {
    "collapsed": false
   },
   "outputs": [],
   "source": [
    "from scipy.stats import norm\n",
    "import numpy as np\n",
    "def two_sample_propotion(x1, x2, n1, n2, tail=2):\n",
    "    p1 = 1.0 * x1 / n1\n",
    "    p2 = 1.0 * x2 / n2\n",
    "    p = 1.0*(x1 + x2)/(n1 + n2)\n",
    "    se = np.sqrt(p*(1.0 - p)*(1.0/n1 + 1.0/n2))\n",
    "#     print se\n",
    "    z = (p1 - p2) / se\n",
    "    if tail == 2:\n",
    "        pval = 2*(1 - norm.cdf(abs(z)))\n",
    "    elif tail ==1:\n",
    "        pval = 1 - norm.cdf(abs(z))\n",
    "    return z, pval"
   ]
  },
  {
   "cell_type": "code",
   "execution_count": 93,
   "metadata": {
    "collapsed": false
   },
   "outputs": [
    {
     "name": "stdout",
     "output_type": "stream",
     "text": [
      "0.000648826861869\n"
     ]
    },
    {
     "data": {
      "text/plain": [
       "(1.7466341039870927, 0.080700827507707462)"
      ]
     },
     "execution_count": 93,
     "metadata": {},
     "output_type": "execute_result"
    }
   ],
   "source": [
    "two_sample_propotion(8268, 9379, 185556, 215983)"
   ]
  },
  {
   "cell_type": "code",
   "execution_count": 80,
   "metadata": {
    "collapsed": false
   },
   "outputs": [
    {
     "data": {
      "text/plain": [
       "0.05216753971846774"
      ]
     },
     "execution_count": 80,
     "metadata": {},
     "output_type": "execute_result"
    }
   ],
   "source": [
    "9680.0 / 185556"
   ]
  },
  {
   "cell_type": "code",
   "execution_count": 69,
   "metadata": {
    "collapsed": false
   },
   "outputs": [
    {
     "data": {
      "text/plain": [
       "0.043424713982118966"
      ]
     },
     "execution_count": 69,
     "metadata": {},
     "output_type": "execute_result"
    }
   ],
   "source": [
    "9379.0/(206604 + 9379)"
   ]
  },
  {
   "cell_type": "code",
   "execution_count": 70,
   "metadata": {
    "collapsed": false
   },
   "outputs": [
    {
     "data": {
      "text/plain": [
       "215983"
      ]
     },
     "execution_count": 70,
     "metadata": {},
     "output_type": "execute_result"
    }
   ],
   "source": [
    "206604 + 9379"
   ]
  },
  {
   "cell_type": "code",
   "execution_count": 130,
   "metadata": {
    "collapsed": false
   },
   "outputs": [
    {
     "data": {
      "text/plain": [
       "<matplotlib.legend.Legend at 0x7f002a452d90>"
      ]
     },
     "execution_count": 130,
     "metadata": {},
     "output_type": "execute_result"
    },
    {
     "data": {
      "image/png": "[encoded data removed]",
      "text/plain": [
       "<matplotlib.figure.Figure at 0x7f002a859cd0>"
      ]
     },
     "metadata": {},
     "output_type": "display_data"
    }
   ],
   "source": [
    "fig, axes = plt.subplots(1, 2, figsize=(12, 4))\n",
    "fig.suptitle(\"Distribution of User age\", fontsize=14)\n",
    "combine[(combine['test'] ==1) & (combine['country'] != 'Spain')]['age'].hist(bins=50, normed =1, alpha=0.5, ax=axes[0], label='test group')\n",
    "combine[(combine['test'] ==0) & (combine['country'] != 'Spain')]['age'].hist(bins=50, normed =1, alpha=0.5, ax=axes[1], label='control group')\n",
    "axes[1].set_ylim(0, 0.12)\n",
    "axes[0].legend()\n",
    "axes[1].legend()"
   ]
  },
  {
   "cell_type": "code",
   "execution_count": 102,
   "metadata": {
    "collapsed": false
   },
   "outputs": [
    {
     "data": {
      "text/plain": [
       "18.0"
      ]
     },
     "execution_count": 102,
     "metadata": {},
     "output_type": "execute_result"
    }
   ],
   "source": [
    "combine['age'].min()"
   ]
  },
  {
   "cell_type": "code",
   "execution_count": 108,
   "metadata": {
    "collapsed": false
   },
   "outputs": [
    {
     "data": {
      "text/plain": [
       "<matplotlib.axes._subplots.AxesSubplot at 0x7f002eb692d0>"
      ]
     },
     "execution_count": 108,
     "metadata": {},
     "output_type": "execute_result"
    },
    {
     "data": {
      "image/png": "[encoded data removed]",
      "text/plain": [
       "<matplotlib.figure.Figure at 0x7f002eb76f50>"
      ]
     },
     "metadata": {},
     "output_type": "display_data"
    }
   ],
   "source": [
    "combine[combine['test'] ==0]['age'].hist(bins=50, normed =1)"
   ]
  },
  {
   "cell_type": "code",
   "execution_count": 106,
   "metadata": {
    "collapsed": false
   },
   "outputs": [
    {
     "data": {
      "text/html": [
       "<div>\n",
       "<table border=\"1\" class=\"dataframe\">\n",
       "  <thead>\n",
       "    <tr style=\"text-align: right;\">\n",
       "      <th></th>\n",
       "      <th>user_id</th>\n",
       "      <th>date</th>\n",
       "      <th>source</th>\n",
       "      <th>device</th>\n",
       "      <th>browser_language</th>\n",
       "      <th>ads_channel</th>\n",
       "      <th>browser</th>\n",
       "      <th>conversion</th>\n",
       "      <th>sex</th>\n",
       "      <th>age</th>\n",
       "      <th>country</th>\n",
       "    </tr>\n",
       "    <tr>\n",
       "      <th>test</th>\n",
       "      <th></th>\n",
       "      <th></th>\n",
       "      <th></th>\n",
       "      <th></th>\n",
       "      <th></th>\n",
       "      <th></th>\n",
       "      <th></th>\n",
       "      <th></th>\n",
       "      <th></th>\n",
       "      <th></th>\n",
       "      <th></th>\n",
       "    </tr>\n",
       "  </thead>\n",
       "  <tbody>\n",
       "    <tr>\n",
       "      <th>0</th>\n",
       "      <td>13495</td>\n",
       "      <td>13495</td>\n",
       "      <td>13495</td>\n",
       "      <td>13495</td>\n",
       "      <td>13495</td>\n",
       "      <td>5386</td>\n",
       "      <td>13495</td>\n",
       "      <td>13495</td>\n",
       "      <td>13495</td>\n",
       "      <td>13495</td>\n",
       "      <td>13495</td>\n",
       "    </tr>\n",
       "    <tr>\n",
       "      <th>1</th>\n",
       "      <td>12412</td>\n",
       "      <td>12412</td>\n",
       "      <td>12412</td>\n",
       "      <td>12412</td>\n",
       "      <td>12412</td>\n",
       "      <td>5004</td>\n",
       "      <td>12412</td>\n",
       "      <td>12412</td>\n",
       "      <td>12412</td>\n",
       "      <td>12412</td>\n",
       "      <td>12412</td>\n",
       "    </tr>\n",
       "  </tbody>\n",
       "</table>\n",
       "</div>"
      ],
      "text/plain": [
       "      user_id   date  source  device  browser_language  ads_channel  browser  \\\n",
       "test                                                                           \n",
       "0       13495  13495   13495   13495             13495         5386    13495   \n",
       "1       12412  12412   12412   12412             12412         5004    12412   \n",
       "\n",
       "      conversion    sex    age  country  \n",
       "test                                     \n",
       "0          13495  13495  13495    13495  \n",
       "1          12412  12412  12412    12412  "
      ]
     },
     "execution_count": 106,
     "metadata": {},
     "output_type": "execute_result"
    }
   ],
   "source": [
    "combine[combine['age'] == 18].groupby('test').count()"
   ]
  },
  {
   "cell_type": "code",
   "execution_count": 145,
   "metadata": {
    "collapsed": false
   },
   "outputs": [
    {
     "name": "stdout",
     "output_type": "stream",
     "text": [
      "<class 'pandas.core.frame.DataFrame'>\n",
      "Int64Index: 401085 entries, 1 to 452866\n",
      "Data columns (total 12 columns):\n",
      "user_id             401085 non-null int64\n",
      "date                401085 non-null object\n",
      "source              401085 non-null object\n",
      "device              401085 non-null object\n",
      "browser_language    401085 non-null object\n",
      "ads_channel         160800 non-null object\n",
      "browser             401085 non-null object\n",
      "conversion          401085 non-null int64\n",
      "test                401085 non-null int64\n",
      "sex                 401085 non-null object\n",
      "age                 401085 non-null int64\n",
      "country             401085 non-null object\n",
      "dtypes: int64(4), object(8)\n",
      "memory usage: 39.8+ MB\n"
     ]
    }
   ],
   "source": [
    "df_comb = combine[combine['country'] != 'Spain']\n",
    "df_comb.info()"
   ]
  },
  {
   "cell_type": "code",
   "execution_count": 146,
   "metadata": {
    "collapsed": false
   },
   "outputs": [
    {
     "data": {
      "text/plain": [
       "Mexico         128484\n",
       "Colombia        54060\n",
       "Argentina       46733\n",
       "Peru            33666\n",
       "Venezuela       32054\n",
       "Chile           19737\n",
       "Ecuador         15895\n",
       "Guatemala       15125\n",
       "Bolivia         11124\n",
       "Honduras         8568\n",
       "El Salvador      8175\n",
       "Paraguay         7347\n",
       "Nicaragua        6723\n",
       "Costa Rica       5309\n",
       "Uruguay          4134\n",
       "Panama           3951\n",
       "Name: country, dtype: int64"
      ]
     },
     "execution_count": 146,
     "metadata": {},
     "output_type": "execute_result"
    }
   ],
   "source": [
    "df_comb['country'].value_counts()"
   ]
  },
  {
   "cell_type": "code",
   "execution_count": 183,
   "metadata": {
    "collapsed": true
   },
   "outputs": [],
   "source": [
    "def check_category(df, cat):\n",
    "    n_test = df[df['test'] ==1].shape[0]\n",
    "    n_control = df[df['test'] ==0].shape[0]\n",
    "    print n_test, n_control\n",
    "    print (df[df['test'] ==1].groupby(cat)['user_id'].count()/(1.0*n_test))*100\n",
    "    print (df[df['test'] ==0].groupby(cat)['user_id'].count()/(1.0*n_control))*100"
   ]
  },
  {
   "cell_type": "code",
   "execution_count": 171,
   "metadata": {
    "collapsed": false
   },
   "outputs": [
    {
     "name": "stdout",
     "output_type": "stream",
     "text": [
      "source\n",
      "Ads       40.064141\n",
      "Direct    19.950040\n",
      "SEO       39.985818\n",
      "Name: user_id, dtype: float64\n",
      "source\n",
      "Ads       40.122821\n",
      "Direct    20.094868\n",
      "SEO       39.782312\n",
      "Name: user_id, dtype: float64\n"
     ]
    }
   ],
   "source": [
    "check_category(df_comb, 'source')"
   ]
  },
  {
   "cell_type": "code",
   "execution_count": 172,
   "metadata": {
    "collapsed": false
   },
   "outputs": [
    {
     "name": "stdout",
     "output_type": "stream",
     "text": [
      "device\n",
      "Mobile    44.609638\n",
      "Web       55.390362\n",
      "Name: user_id, dtype: float64\n",
      "device\n",
      "Mobile    44.438808\n",
      "Web       55.561192\n",
      "Name: user_id, dtype: float64\n"
     ]
    }
   ],
   "source": [
    "check_category(df_comb, 'device')"
   ]
  },
  {
   "cell_type": "code",
   "execution_count": 173,
   "metadata": {
    "collapsed": false
   },
   "outputs": [
    {
     "name": "stdout",
     "output_type": "stream",
     "text": [
      "date\n",
      "2015-11-30    15.684930\n",
      "2015-12-01    15.683076\n",
      "2015-12-02    15.533382\n",
      "2015-12-03    21.959550\n",
      "2015-12-04    31.139062\n",
      "Name: user_id, dtype: float64\n",
      "date\n",
      "2015-11-30    15.639654\n",
      "2015-12-01    15.646670\n",
      "2015-12-02    15.597023\n",
      "2015-12-03    21.977648\n",
      "2015-12-04    31.139004\n",
      "Name: user_id, dtype: float64\n"
     ]
    }
   ],
   "source": [
    "check_category(df_comb, 'date')"
   ]
  },
  {
   "cell_type": "code",
   "execution_count": 174,
   "metadata": {
    "collapsed": false
   },
   "outputs": [
    {
     "name": "stdout",
     "output_type": "stream",
     "text": [
      "browser_language\n",
      "EN       13.952561\n",
      "ES       83.234310\n",
      "Other     2.813129\n",
      "Name: user_id, dtype: float64\n",
      "browser_language\n",
      "EN       13.910129\n",
      "ES       83.328027\n",
      "Other     2.761844\n",
      "Name: user_id, dtype: float64\n"
     ]
    }
   ],
   "source": [
    "check_category(df_comb, 'browser_language')"
   ]
  },
  {
   "cell_type": "code",
   "execution_count": 175,
   "metadata": {
    "collapsed": false
   },
   "outputs": [
    {
     "name": "stdout",
     "output_type": "stream",
     "text": [
      "ads_channel\n",
      "Bing         3.016119\n",
      "Facebook    15.111645\n",
      "Google      15.005515\n",
      "Other        0.894454\n",
      "Yahoo        6.036408\n",
      "Name: user_id, dtype: float64\n",
      "ads_channel\n",
      "Bing         3.003060\n",
      "Facebook    15.026631\n",
      "Google      15.068183\n",
      "Other        0.926011\n",
      "Yahoo        6.098936\n",
      "Name: user_id, dtype: float64\n"
     ]
    }
   ],
   "source": [
    "check_category(df_comb, 'ads_channel')"
   ]
  },
  {
   "cell_type": "code",
   "execution_count": 176,
   "metadata": {
    "collapsed": false
   },
   "outputs": [
    {
     "name": "stdout",
     "output_type": "stream",
     "text": [
      "browser\n",
      "Android_App    34.344731\n",
      "Chrome         22.595401\n",
      "FireFox         8.971887\n",
      "IE             13.541020\n",
      "Iphone_App     10.264907\n",
      "Opera           1.336120\n",
      "Safari          8.945934\n",
      "Name: user_id, dtype: float64\n",
      "browser\n",
      "Android_App    34.130732\n",
      "Chrome         22.327331\n",
      "FireFox         8.971944\n",
      "IE             13.696435\n",
      "Iphone_App     10.308077\n",
      "Opera           1.345846\n",
      "Safari          9.219636\n",
      "Name: user_id, dtype: float64\n"
     ]
    }
   ],
   "source": [
    "check_category(df_comb, 'browser')"
   ]
  },
  {
   "cell_type": "code",
   "execution_count": 177,
   "metadata": {
    "collapsed": false
   },
   "outputs": [
    {
     "name": "stdout",
     "output_type": "stream",
     "text": [
      "sex\n",
      "F    41.668134\n",
      "M    58.331866\n",
      "Name: user_id, dtype: float64\n",
      "sex\n",
      "F    41.603575\n",
      "M    58.396425\n",
      "Name: user_id, dtype: float64\n"
     ]
    }
   ],
   "source": [
    "check_category(df_comb, 'sex')"
   ]
  },
  {
   "cell_type": "code",
   "execution_count": 184,
   "metadata": {
    "collapsed": false
   },
   "outputs": [
    {
     "name": "stdout",
     "output_type": "stream",
     "text": [
      "215774 185311\n",
      "country\n",
      "Argentina      17.322291\n",
      "Bolivia         2.583258\n",
      "Chile           4.580719\n",
      "Colombia       12.500116\n",
      "Costa Rica      1.227673\n",
      "Ecuador         3.642237\n",
      "El Salvador     1.884842\n",
      "Guatemala       3.477249\n",
      "Honduras        1.949725\n",
      "Mexico         29.788112\n",
      "Nicaragua       1.531232\n",
      "Panama          0.919944\n",
      "Paraguay        1.713367\n",
      "Peru            7.784534\n",
      "Uruguay         1.723563\n",
      "Venezuela       7.371138\n",
      "Name: user_id, dtype: float64\n",
      "country\n",
      "Argentina       5.048810\n",
      "Bolivia         2.994965\n",
      "Chile           5.317008\n",
      "Colombia       14.617589\n",
      "Costa Rica      1.435425\n",
      "Ecuador         4.336494\n",
      "El Salvador     2.216814\n",
      "Guatemala       4.113086\n",
      "Honduras        2.353341\n",
      "Mexico         34.649319\n",
      "Nicaragua       1.845007\n",
      "Panama          1.060919\n",
      "Paraguay        1.969662\n",
      "Peru            9.103075\n",
      "Uruguay         0.223948\n",
      "Venezuela       8.714539\n",
      "Name: user_id, dtype: float64\n"
     ]
    }
   ],
   "source": [
    "check_category(df_comb, 'country')"
   ]
  },
  {
   "cell_type": "code",
   "execution_count": 204,
   "metadata": {
    "collapsed": false
   },
   "outputs": [],
   "source": [
    "df_cou = (df_comb.groupby(['test', 'country']).count()/ df_comb.groupby(['test']).count())['user_id'].reset_index()"
   ]
  },
  {
   "cell_type": "code",
   "execution_count": 255,
   "metadata": {
    "collapsed": false
   },
   "outputs": [
    {
     "data": {
      "text/plain": [
       "<matplotlib.text.Text at 0x7f001a103bd0>"
      ]
     },
     "execution_count": 255,
     "metadata": {},
     "output_type": "execute_result"
    },
    {
     "data": {
      "image/png": "[encoded data removed]",
      "text/plain": [
       "<matplotlib.figure.Figure at 0x7f001a1de450>"
      ]
     },
     "metadata": {},
     "output_type": "display_data"
    }
   ],
   "source": [
    "import numpy as np\n",
    "colors = plt.rcParams['axes.prop_cycle']\n",
    "plt.bar(np.arange(16), df_cou[df_cou['test'] == 1]['user_id'], 0.44, alpha=0.6, color='#E24A33', label='test')\n",
    "plt.bar(np.arange(16)+0.44, df_cou[df_cou['test'] == 0]['user_id'],0.44, alpha=0.6, color='#348ABD', label='control')\n",
    "plt.xticks(np.arange(16)+0.5, df_cou[df_cou['test']==1]['country'], rotation=90)\n",
    "plt.legend()\n",
    "plt.title('The user proportion from diffrent countries')"
   ]
  },
  {
   "cell_type": "code",
   "execution_count": 258,
   "metadata": {
    "collapsed": false
   },
   "outputs": [
    {
     "data": {
      "text/plain": [
       "test  conversion\n",
       "0     0             176362\n",
       "      1               8949\n",
       "1     0             206407\n",
       "      1               9367\n",
       "Name: conversion, dtype: int64"
      ]
     },
     "execution_count": 258,
     "metadata": {},
     "output_type": "execute_result"
    }
   ],
   "source": [
    "df_comb.groupby('test')['conversion'].value_counts()"
   ]
  },
  {
   "cell_type": "code",
   "execution_count": 260,
   "metadata": {
    "collapsed": false
   },
   "outputs": [
    {
     "data": {
      "text/plain": [
       "1    215774\n",
       "0    185311\n",
       "Name: test, dtype: int64"
      ]
     },
     "execution_count": 260,
     "metadata": {},
     "output_type": "execute_result"
    }
   ],
   "source": [
    "df_comb['test'].value_counts()"
   ]
  },
  {
   "cell_type": "code",
   "execution_count": 269,
   "metadata": {
    "collapsed": false
   },
   "outputs": [],
   "source": [
    "def test_for_country(df, country):\n",
    "    new_df = df[df['country'] == country]\n",
    "    n1 = new_df[new_df['test']==0].shape[0]\n",
    "    n2 = new_df[new_df['test']==1].shape[0]\n",
    "    x1 = new_df[(new_df['test']==0) & (new_df['conversion']==1)].shape[0]\n",
    "    x2 = new_df[(new_df['test']==1) & (new_df['conversion']==1)].shape[0]\n",
    "    print country, two_sample_propotion(x1, x2, n1, n2, tail=1)\n",
    "    print country, two_sample_propotion(x1, x2, n1, n2, tail=2)"
   ]
  },
  {
   "cell_type": "code",
   "execution_count": 265,
   "metadata": {
    "collapsed": true
   },
   "outputs": [],
   "source": [
    "coun_list = df_comb['country'].unique()"
   ]
  },
  {
   "cell_type": "code",
   "execution_count": 270,
   "metadata": {
    "collapsed": false
   },
   "outputs": [
    {
     "name": "stdout",
     "output_type": "stream",
     "text": [
      "Mexico (-1.3866626773050972, 0.082772323208606169)\n",
      "Mexico (-1.3866626773050972, 0.16554464641721234)\n",
      "Venezuela (0.56257322596815718, 0.28686276393816468)\n",
      "Venezuela (0.56257322596815718, 0.57372552787632936)\n",
      "Bolivia (0.3599995702246897, 0.35942372747956763)\n",
      "Bolivia (0.3599995702246897, 0.71884745495913527)\n",
      "Colombia (0.79997782757430524, 0.21186182180479141)\n",
      "Colombia (0.79997782757430524, 0.42372364360958281)\n",
      "Uruguay (-0.14744931003959355, 0.44138869351863741)\n",
      "Uruguay (-0.14744931003959355, 0.88277738703727482)\n",
      "El Salvador (1.1547382454484054, 0.12409881635804887)\n",
      "El Salvador (1.1547382454484054, 0.24819763271609774)\n",
      "Nicaragua (-0.27891286470537729, 0.390155847779738)\n",
      "Nicaragua (-0.27891286470537729, 0.78031169555947599)\n",
      "Peru (-0.28983586436597297, 0.38597090456668948)\n",
      "Peru (-0.28983586436597297, 0.77194180913337895)\n",
      "Costa Rica (-0.40184848920608801, 0.34389776700520036)\n",
      "Costa Rica (-0.40184848920608801, 0.68779553401040072)\n",
      "Chile (-1.0303481693218159, 0.15142329730925419)\n",
      "Chile (-1.0303481693218159, 0.30284659461850838)\n",
      "Argentina (0.99085590568949233, 0.1608779730414347)\n",
      "Argentina (0.99085590568949233, 0.32175594608286939)\n",
      "Ecuador (0.048259600775592222, 0.48075467546352479)\n",
      "Ecuador (0.048259600775592222, 0.96150935092704959)\n",
      "Guatemala (0.56490987184494323, 0.28606753436940979)\n",
      "Guatemala (0.56490987184494323, 0.57213506873881959)\n",
      "Honduras (0.71977555764985357, 0.23583159822217969)\n",
      "Honduras (0.71977555764985357, 0.47166319644435939)\n",
      "Paraguay (-0.14630297987487037, 0.44184110678574995)\n",
      "Paraguay (-0.14630297987487037, 0.8836822135714999)\n",
      "Panama (-0.37820969885226458, 0.35263741051488506)\n",
      "Panama (-0.37820969885226458, 0.70527482102977013)\n"
     ]
    }
   ],
   "source": [
    "for item in coun_list:\n",
    "    test_for_country(df_comb, item)"
   ]
  },
  {
   "cell_type": "code",
   "execution_count": 272,
   "metadata": {
    "collapsed": false
   },
   "outputs": [],
   "source": [
    "gp_test = df_comb.groupby('test')['user_id'].count()"
   ]
  },
  {
   "cell_type": "code",
   "execution_count": 276,
   "metadata": {
    "collapsed": false
   },
   "outputs": [],
   "source": [
    "a = df_comb[df_comb['country'] == 'Mexico'].groupby('test')['user_id'].count() / gp_test"
   ]
  },
  {
   "cell_type": "code",
   "execution_count": 277,
   "metadata": {
    "collapsed": false
   },
   "outputs": [
    {
     "data": {
      "text/plain": [
       "0.34649319252499849"
      ]
     },
     "execution_count": 277,
     "metadata": {},
     "output_type": "execute_result"
    }
   ],
   "source": [
    "a[0]"
   ]
  },
  {
   "cell_type": "code",
   "execution_count": 278,
   "metadata": {
    "collapsed": false
   },
   "outputs": [
    {
     "data": {
      "text/plain": [
       "0.29788111635322145"
      ]
     },
     "execution_count": 278,
     "metadata": {},
     "output_type": "execute_result"
    }
   ],
   "source": [
    "a[1]"
   ]
  },
  {
   "cell_type": "code",
   "execution_count": null,
   "metadata": {
    "collapsed": true
   },
   "outputs": [],
   "source": []
  }
 ],
 "metadata": {
  "kernelspec": {
   "display_name": "Python 2",
   "language": "python",
   "name": "python2"
  },
  "language_info": {
   "codemirror_mode": {
    "name": "ipython",
    "version": 2
   },
   "file_extension": ".py",
   "mimetype": "text/x-python",
   "name": "python",
   "nbconvert_exporter": "python",
   "pygments_lexer": "ipython2",
   "version": "2.7.12"
  }
 },
 "nbformat": 4,
 "nbformat_minor": 1
}
